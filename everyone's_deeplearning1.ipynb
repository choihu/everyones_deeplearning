{
  "nbformat": 4,
  "nbformat_minor": 0,
  "metadata": {
    "colab": {
      "name": "everyone's_deeplearning1.ipynb",
      "provenance": [],
      "include_colab_link": true
    },
    "kernelspec": {
      "name": "python3",
      "display_name": "Python 3"
    }
  },
  "cells": [
    {
      "cell_type": "markdown",
      "metadata": {
        "id": "view-in-github",
        "colab_type": "text"
      },
      "source": [
        "<a href=\"https://colab.research.google.com/github/choihu/everyones_deeplearning/blob/master/everyone's_deeplearning1.ipynb\" target=\"_parent\"><img src=\"https://colab.research.google.com/assets/colab-badge.svg\" alt=\"Open In Colab\"/></a>"
      ]
    },
    {
      "cell_type": "code",
      "metadata": {
        "id": "e6ch-0h5XgZN",
        "colab_type": "code",
        "colab": {}
      },
      "source": [
        "from keras.models import Sequential\n",
        "from keras.layers import Dense\n",
        "\n",
        "import numpy as np\n",
        "import tensorflow as tf"
      ],
      "execution_count": 0,
      "outputs": []
    },
    {
      "cell_type": "code",
      "metadata": {
        "id": "HJzcD-xZYg6R",
        "colab_type": "code",
        "colab": {}
      },
      "source": [
        "seed = 0\n",
        "np.random.seed(seed)\n",
        "tf.set_random_seed(seed)"
      ],
      "execution_count": 0,
      "outputs": []
    },
    {
      "cell_type": "code",
      "metadata": {
        "id": "6g_zZ9IJYocJ",
        "colab_type": "code",
        "colab": {}
      },
      "source": [
        "Data_set = np.loadtxt(\"./ThoraricSurgery.csv\", delimiter=\",\")"
      ],
      "execution_count": 0,
      "outputs": []
    },
    {
      "cell_type": "code",
      "metadata": {
        "id": "igdISqSEYq1O",
        "colab_type": "code",
        "colab": {}
      },
      "source": [
        "X = Data_set[:, 0:17]\n",
        "Y = Data_set[:, 17]"
      ],
      "execution_count": 0,
      "outputs": []
    },
    {
      "cell_type": "code",
      "metadata": {
        "id": "PvntkRGkZDYW",
        "colab_type": "code",
        "colab": {}
      },
      "source": [
        "model = Sequential()\n",
        "model.add(Dense(30, input_dim=17, activation='relu'))\n",
        "model.add(Dense(1, activation='sigmoid'))"
      ],
      "execution_count": 0,
      "outputs": []
    },
    {
      "cell_type": "code",
      "metadata": {
        "id": "u5n_VQflZiQK",
        "colab_type": "code",
        "outputId": "0462bac6-1817-497e-f6dd-56949f1d3f13",
        "colab": {
          "base_uri": "https://localhost:8080/",
          "height": 1000
        }
      },
      "source": [
        "model.compile(loss = 'mean_squared_error', optimizer='adam', metrics=['accuracy'])\n",
        "model.fit(X, Y, epochs=30, batch_size=10)"
      ],
      "execution_count": 0,
      "outputs": [
        {
          "output_type": "stream",
          "text": [
            "WARNING:tensorflow:From /usr/local/lib/python3.6/dist-packages/keras/optimizers.py:793: The name tf.train.Optimizer is deprecated. Please use tf.compat.v1.train.Optimizer instead.\n",
            "\n",
            "WARNING:tensorflow:From /usr/local/lib/python3.6/dist-packages/keras/backend/tensorflow_backend.py:3005: The name tf.Session is deprecated. Please use tf.compat.v1.Session instead.\n",
            "\n",
            "Epoch 1/30\n",
            "WARNING:tensorflow:From /usr/local/lib/python3.6/dist-packages/keras/backend/tensorflow_backend.py:190: The name tf.get_default_session is deprecated. Please use tf.compat.v1.get_default_session instead.\n",
            "\n",
            "WARNING:tensorflow:From /usr/local/lib/python3.6/dist-packages/keras/backend/tensorflow_backend.py:207: The name tf.global_variables is deprecated. Please use tf.compat.v1.global_variables instead.\n",
            "\n",
            "WARNING:tensorflow:From /usr/local/lib/python3.6/dist-packages/keras/backend/tensorflow_backend.py:216: The name tf.is_variable_initialized is deprecated. Please use tf.compat.v1.is_variable_initialized instead.\n",
            "\n",
            "WARNING:tensorflow:From /usr/local/lib/python3.6/dist-packages/keras/backend/tensorflow_backend.py:223: The name tf.variables_initializer is deprecated. Please use tf.compat.v1.variables_initializer instead.\n",
            "\n",
            "470/470 [==============================] - 1s 2ms/step - loss: 0.6656 - acc: 0.3064 \n",
            "Epoch 2/30\n",
            "470/470 [==============================] - 0s 145us/step - loss: 0.1488 - acc: 0.8511\n",
            "Epoch 3/30\n",
            "470/470 [==============================] - 0s 123us/step - loss: 0.1488 - acc: 0.8511\n",
            "Epoch 4/30\n",
            "470/470 [==============================] - 0s 115us/step - loss: 0.1488 - acc: 0.8511\n",
            "Epoch 5/30\n",
            "470/470 [==============================] - 0s 128us/step - loss: 0.1488 - acc: 0.8511\n",
            "Epoch 6/30\n",
            "470/470 [==============================] - 0s 144us/step - loss: 0.1488 - acc: 0.8511\n",
            "Epoch 7/30\n",
            "470/470 [==============================] - 0s 135us/step - loss: 0.1487 - acc: 0.8511\n",
            "Epoch 8/30\n",
            "470/470 [==============================] - 0s 112us/step - loss: 0.1487 - acc: 0.8511\n",
            "Epoch 9/30\n",
            "470/470 [==============================] - 0s 108us/step - loss: 0.1487 - acc: 0.8511\n",
            "Epoch 10/30\n",
            "470/470 [==============================] - 0s 125us/step - loss: 0.1486 - acc: 0.8511\n",
            "Epoch 11/30\n",
            "470/470 [==============================] - 0s 109us/step - loss: 0.1498 - acc: 0.8447\n",
            "Epoch 12/30\n",
            "470/470 [==============================] - 0s 105us/step - loss: 0.1487 - acc: 0.8511\n",
            "Epoch 13/30\n",
            "470/470 [==============================] - 0s 107us/step - loss: 0.1485 - acc: 0.8511\n",
            "Epoch 14/30\n",
            "470/470 [==============================] - 0s 131us/step - loss: 0.1483 - acc: 0.8511\n",
            "Epoch 15/30\n",
            "470/470 [==============================] - 0s 140us/step - loss: 0.1485 - acc: 0.8511\n",
            "Epoch 16/30\n",
            "470/470 [==============================] - 0s 119us/step - loss: 0.1491 - acc: 0.8447\n",
            "Epoch 17/30\n",
            "470/470 [==============================] - 0s 139us/step - loss: 0.1479 - acc: 0.8489\n",
            "Epoch 18/30\n",
            "470/470 [==============================] - 0s 132us/step - loss: 0.1482 - acc: 0.8468\n",
            "Epoch 19/30\n",
            "470/470 [==============================] - 0s 112us/step - loss: 0.1477 - acc: 0.8511\n",
            "Epoch 20/30\n",
            "470/470 [==============================] - 0s 111us/step - loss: 0.1480 - acc: 0.8511\n",
            "Epoch 21/30\n",
            "470/470 [==============================] - 0s 111us/step - loss: 0.1475 - acc: 0.8511\n",
            "Epoch 22/30\n",
            "470/470 [==============================] - 0s 98us/step - loss: 0.1470 - acc: 0.8489\n",
            "Epoch 23/30\n",
            "470/470 [==============================] - 0s 133us/step - loss: 0.1467 - acc: 0.8511\n",
            "Epoch 24/30\n",
            "470/470 [==============================] - 0s 108us/step - loss: 0.1476 - acc: 0.8489\n",
            "Epoch 25/30\n",
            "470/470 [==============================] - 0s 104us/step - loss: 0.1471 - acc: 0.8511\n",
            "Epoch 26/30\n",
            "470/470 [==============================] - 0s 115us/step - loss: 0.1466 - acc: 0.8511\n",
            "Epoch 27/30\n",
            "470/470 [==============================] - 0s 104us/step - loss: 0.1473 - acc: 0.8511\n",
            "Epoch 28/30\n",
            "470/470 [==============================] - 0s 115us/step - loss: 0.1471 - acc: 0.8489\n",
            "Epoch 29/30\n",
            "470/470 [==============================] - 0s 111us/step - loss: 0.1471 - acc: 0.8489\n",
            "Epoch 30/30\n",
            "470/470 [==============================] - 0s 107us/step - loss: 0.1462 - acc: 0.8532\n"
          ],
          "name": "stdout"
        },
        {
          "output_type": "execute_result",
          "data": {
            "text/plain": [
              "<keras.callbacks.History at 0x7f414a9fdcc0>"
            ]
          },
          "metadata": {
            "tags": []
          },
          "execution_count": 19
        }
      ]
    },
    {
      "cell_type": "code",
      "metadata": {
        "id": "KTbb5MsWZtLc",
        "colab_type": "code",
        "outputId": "d6b83c87-d9fa-4155-bac8-43f6c85098c1",
        "colab": {
          "base_uri": "https://localhost:8080/",
          "height": 70
        }
      },
      "source": [
        "print(\"\\n Accuracy: %.4f\" %(model.evaluate(X, Y)[1]))"
      ],
      "execution_count": 0,
      "outputs": [
        {
          "output_type": "stream",
          "text": [
            "470/470 [==============================] - 0s 87us/step\n",
            "\n",
            " Accuracy: 0.8511\n"
          ],
          "name": "stdout"
        }
      ]
    }
  ]
}