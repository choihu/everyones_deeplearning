{
  "nbformat": 4,
  "nbformat_minor": 0,
  "metadata": {
    "colab": {
      "name": "everyone's_deeplearning5.ipynb",
      "provenance": [],
      "include_colab_link": true
    },
    "kernelspec": {
      "name": "python3",
      "display_name": "Python 3"
    }
  },
  "cells": [
    {
      "cell_type": "markdown",
      "metadata": {
        "id": "view-in-github",
        "colab_type": "text"
      },
      "source": [
        "<a href=\"https://colab.research.google.com/github/choihu/everyones_deeplearning/blob/master/everyone's_deeplearning5.ipynb\" target=\"_parent\"><img src=\"https://colab.research.google.com/assets/colab-badge.svg\" alt=\"Open In Colab\"/></a>"
      ]
    },
    {
      "cell_type": "code",
      "metadata": {
        "id": "uZ9iHf3I6GDC",
        "colab_type": "code",
        "colab": {}
      },
      "source": [
        "from keras import Sequential\n",
        "from keras.layers.core import Dense\n",
        "from sklearn.preprocessing import LabelEncoder\n",
        "from sklearn.model_selection import train_test_split\n",
        "from keras.models import load_model\n",
        "from sklearn.model_selection import StratifiedKFold\n",
        "from keras.callbacks import ModelCheckpoint\n",
        "from keras.callbacks import EarlyStopping\n",
        "\n",
        "import os\n",
        "import pandas as pd\n",
        "import numpy as np\n",
        "import tensorflow as tf\n",
        "import matplotlib.pyplot as plt\n",
        "\n",
        "seed = 0\n",
        "n_fold = 10\n",
        "np.random.seed(seed)\n",
        "tf.set_random_seed(seed)"
      ],
      "execution_count": 0,
      "outputs": []
    },
    {
      "cell_type": "code",
      "metadata": {
        "id": "iT3qPvKL6rS-",
        "colab_type": "code",
        "colab": {}
      },
      "source": [
        "df_pre = pd.read_csv('/content/wine.csv', header=None)\n",
        "#df = df_pre.sample(frac=1)\n",
        "df = df_pre.sample(frac=0.15)"
      ],
      "execution_count": 0,
      "outputs": []
    },
    {
      "cell_type": "code",
      "metadata": {
        "id": "odC5KtJC62TS",
        "colab_type": "code",
        "colab": {}
      },
      "source": [
        "data_set = df.values\n",
        "X = data_set[:, 0:12]\n",
        "Y = data_set[:, 12]"
      ],
      "execution_count": 0,
      "outputs": []
    },
    {
      "cell_type": "code",
      "metadata": {
        "id": "vPMdRLvYGgJG",
        "colab_type": "code",
        "colab": {}
      },
      "source": [
        "#MODEL_DIR = './model/'\n",
        "#if not os.path.exists(MODEL_DIR):\n",
        "#  os.mkdir(MODEL_DIR)\n",
        "\n",
        "#modelpath= \"./model/{epoch:02d}-{val_loss:.4f}.hdf5\""
      ],
      "execution_count": 0,
      "outputs": []
    },
    {
      "cell_type": "code",
      "metadata": {
        "id": "lv7oou2JHDeT",
        "colab_type": "code",
        "colab": {}
      },
      "source": [
        "checkpointer = ModelCheckpoint(filepath=modelpath, monitor='val_loss', verbose=1, save_best_only=True)\n",
        "early_stopping_callback = EarlyStopping(monitor='val_loss', patience=100)"
      ],
      "execution_count": 0,
      "outputs": []
    },
    {
      "cell_type": "code",
      "metadata": {
        "id": "tiV_Dm2i7d_R",
        "colab_type": "code",
        "colab": {}
      },
      "source": [
        "model = Sequential()\n",
        "model.add(Dense(30, input_dim=12, activation='relu'))\n",
        "model.add(Dense(12, activation='relu'))\n",
        "model.add(Dense(8, activation='relu'))\n",
        "model.add(Dense(1, activation='sigmoid'))"
      ],
      "execution_count": 0,
      "outputs": []
    },
    {
      "cell_type": "code",
      "metadata": {
        "id": "eK3-GD9W7vne",
        "colab_type": "code",
        "outputId": "2d12a512-7a6b-4363-96c2-2702c1a111d3",
        "colab": {
          "base_uri": "https://localhost:8080/",
          "height": 1000
        }
      },
      "source": [
        "model.compile(loss='binary_crossentropy', optimizer='adam', metrics=['accuracy'])\n",
        "#model.fit(X, Y, validation_split=0.2, epochs=200, batch_size=200, verbose=0, callbacks=[checkpointer])\n",
        "##history = model.fit(X, Y, validation_split=0.33, epochs=3500, batch_size=500)\n",
        "model.fit(X, Y, validation_split=0.2, epochs=3500, batch_size=500, verbose=0, callbacks=[early_stopping_callback, checkpointer])"
      ],
      "execution_count": 0,
      "outputs": [
        {
          "output_type": "stream",
          "text": [
            "\n",
            "Epoch 00001: val_loss did not improve from 0.03802\n",
            "\n",
            "Epoch 00002: val_loss did not improve from 0.03802\n",
            "\n",
            "Epoch 00003: val_loss did not improve from 0.03802\n",
            "\n",
            "Epoch 00004: val_loss did not improve from 0.03802\n",
            "\n",
            "Epoch 00005: val_loss did not improve from 0.03802\n",
            "\n",
            "Epoch 00006: val_loss did not improve from 0.03802\n",
            "\n",
            "Epoch 00007: val_loss did not improve from 0.03802\n",
            "\n",
            "Epoch 00008: val_loss did not improve from 0.03802\n",
            "\n",
            "Epoch 00009: val_loss did not improve from 0.03802\n",
            "\n",
            "Epoch 00010: val_loss did not improve from 0.03802\n",
            "\n",
            "Epoch 00011: val_loss did not improve from 0.03802\n",
            "\n",
            "Epoch 00012: val_loss did not improve from 0.03802\n",
            "\n",
            "Epoch 00013: val_loss did not improve from 0.03802\n",
            "\n",
            "Epoch 00014: val_loss did not improve from 0.03802\n",
            "\n",
            "Epoch 00015: val_loss did not improve from 0.03802\n",
            "\n",
            "Epoch 00016: val_loss did not improve from 0.03802\n",
            "\n",
            "Epoch 00017: val_loss did not improve from 0.03802\n",
            "\n",
            "Epoch 00018: val_loss did not improve from 0.03802\n",
            "\n",
            "Epoch 00019: val_loss did not improve from 0.03802\n",
            "\n",
            "Epoch 00020: val_loss did not improve from 0.03802\n",
            "\n",
            "Epoch 00021: val_loss did not improve from 0.03802\n",
            "\n",
            "Epoch 00022: val_loss did not improve from 0.03802\n",
            "\n",
            "Epoch 00023: val_loss did not improve from 0.03802\n",
            "\n",
            "Epoch 00024: val_loss did not improve from 0.03802\n",
            "\n",
            "Epoch 00025: val_loss improved from 0.03802 to 0.03767, saving model to ./model/25-0.0377.hdf5\n",
            "\n",
            "Epoch 00026: val_loss did not improve from 0.03767\n",
            "\n",
            "Epoch 00027: val_loss improved from 0.03767 to 0.03667, saving model to ./model/27-0.0367.hdf5\n",
            "\n",
            "Epoch 00028: val_loss did not improve from 0.03667\n",
            "\n",
            "Epoch 00029: val_loss did not improve from 0.03667\n",
            "\n",
            "Epoch 00030: val_loss improved from 0.03667 to 0.03632, saving model to ./model/30-0.0363.hdf5\n",
            "\n",
            "Epoch 00031: val_loss did not improve from 0.03632\n",
            "\n",
            "Epoch 00032: val_loss did not improve from 0.03632\n",
            "\n",
            "Epoch 00033: val_loss did not improve from 0.03632\n",
            "\n",
            "Epoch 00034: val_loss did not improve from 0.03632\n",
            "\n",
            "Epoch 00035: val_loss did not improve from 0.03632\n",
            "\n",
            "Epoch 00036: val_loss did not improve from 0.03632\n",
            "\n",
            "Epoch 00037: val_loss did not improve from 0.03632\n",
            "\n",
            "Epoch 00038: val_loss did not improve from 0.03632\n",
            "\n",
            "Epoch 00039: val_loss did not improve from 0.03632\n",
            "\n",
            "Epoch 00040: val_loss did not improve from 0.03632\n",
            "\n",
            "Epoch 00041: val_loss did not improve from 0.03632\n",
            "\n",
            "Epoch 00042: val_loss did not improve from 0.03632\n",
            "\n",
            "Epoch 00043: val_loss did not improve from 0.03632\n",
            "\n",
            "Epoch 00044: val_loss did not improve from 0.03632\n",
            "\n",
            "Epoch 00045: val_loss did not improve from 0.03632\n",
            "\n",
            "Epoch 00046: val_loss did not improve from 0.03632\n",
            "\n",
            "Epoch 00047: val_loss did not improve from 0.03632\n",
            "\n",
            "Epoch 00048: val_loss did not improve from 0.03632\n",
            "\n",
            "Epoch 00049: val_loss did not improve from 0.03632\n",
            "\n",
            "Epoch 00050: val_loss did not improve from 0.03632\n",
            "\n",
            "Epoch 00051: val_loss did not improve from 0.03632\n",
            "\n",
            "Epoch 00052: val_loss did not improve from 0.03632\n",
            "\n",
            "Epoch 00053: val_loss did not improve from 0.03632\n",
            "\n",
            "Epoch 00054: val_loss did not improve from 0.03632\n",
            "\n",
            "Epoch 00055: val_loss did not improve from 0.03632\n",
            "\n",
            "Epoch 00056: val_loss did not improve from 0.03632\n",
            "\n",
            "Epoch 00057: val_loss did not improve from 0.03632\n",
            "\n",
            "Epoch 00058: val_loss did not improve from 0.03632\n",
            "\n",
            "Epoch 00059: val_loss did not improve from 0.03632\n",
            "\n",
            "Epoch 00060: val_loss did not improve from 0.03632\n",
            "\n",
            "Epoch 00061: val_loss did not improve from 0.03632\n",
            "\n",
            "Epoch 00062: val_loss did not improve from 0.03632\n",
            "\n",
            "Epoch 00063: val_loss did not improve from 0.03632\n",
            "\n",
            "Epoch 00064: val_loss did not improve from 0.03632\n",
            "\n",
            "Epoch 00065: val_loss did not improve from 0.03632\n",
            "\n",
            "Epoch 00066: val_loss did not improve from 0.03632\n",
            "\n",
            "Epoch 00067: val_loss did not improve from 0.03632\n",
            "\n",
            "Epoch 00068: val_loss did not improve from 0.03632\n",
            "\n",
            "Epoch 00069: val_loss did not improve from 0.03632\n",
            "\n",
            "Epoch 00070: val_loss did not improve from 0.03632\n",
            "\n",
            "Epoch 00071: val_loss did not improve from 0.03632\n",
            "\n",
            "Epoch 00072: val_loss did not improve from 0.03632\n",
            "\n",
            "Epoch 00073: val_loss did not improve from 0.03632\n",
            "\n",
            "Epoch 00074: val_loss did not improve from 0.03632\n",
            "\n",
            "Epoch 00075: val_loss did not improve from 0.03632\n",
            "\n",
            "Epoch 00076: val_loss did not improve from 0.03632\n",
            "\n",
            "Epoch 00077: val_loss did not improve from 0.03632\n",
            "\n",
            "Epoch 00078: val_loss did not improve from 0.03632\n",
            "\n",
            "Epoch 00079: val_loss did not improve from 0.03632\n",
            "\n",
            "Epoch 00080: val_loss did not improve from 0.03632\n",
            "\n",
            "Epoch 00081: val_loss did not improve from 0.03632\n",
            "\n",
            "Epoch 00082: val_loss did not improve from 0.03632\n",
            "\n",
            "Epoch 00083: val_loss did not improve from 0.03632\n",
            "\n",
            "Epoch 00084: val_loss did not improve from 0.03632\n",
            "\n",
            "Epoch 00085: val_loss did not improve from 0.03632\n",
            "\n",
            "Epoch 00086: val_loss did not improve from 0.03632\n",
            "\n",
            "Epoch 00087: val_loss did not improve from 0.03632\n",
            "\n",
            "Epoch 00088: val_loss did not improve from 0.03632\n",
            "\n",
            "Epoch 00089: val_loss did not improve from 0.03632\n",
            "\n",
            "Epoch 00090: val_loss did not improve from 0.03632\n",
            "\n",
            "Epoch 00091: val_loss did not improve from 0.03632\n",
            "\n",
            "Epoch 00092: val_loss did not improve from 0.03632\n",
            "\n",
            "Epoch 00093: val_loss did not improve from 0.03632\n",
            "\n",
            "Epoch 00094: val_loss did not improve from 0.03632\n",
            "\n",
            "Epoch 00095: val_loss did not improve from 0.03632\n",
            "\n",
            "Epoch 00096: val_loss did not improve from 0.03632\n",
            "\n",
            "Epoch 00097: val_loss did not improve from 0.03632\n",
            "\n",
            "Epoch 00098: val_loss did not improve from 0.03632\n",
            "\n",
            "Epoch 00099: val_loss did not improve from 0.03632\n",
            "\n",
            "Epoch 00100: val_loss did not improve from 0.03632\n",
            "\n",
            "Epoch 00101: val_loss did not improve from 0.03632\n",
            "\n",
            "Epoch 00102: val_loss did not improve from 0.03632\n",
            "\n",
            "Epoch 00103: val_loss did not improve from 0.03632\n",
            "\n",
            "Epoch 00104: val_loss did not improve from 0.03632\n",
            "\n",
            "Epoch 00105: val_loss did not improve from 0.03632\n",
            "\n",
            "Epoch 00106: val_loss did not improve from 0.03632\n",
            "\n",
            "Epoch 00107: val_loss did not improve from 0.03632\n",
            "\n",
            "Epoch 00108: val_loss did not improve from 0.03632\n",
            "\n",
            "Epoch 00109: val_loss did not improve from 0.03632\n",
            "\n",
            "Epoch 00110: val_loss did not improve from 0.03632\n",
            "\n",
            "Epoch 00111: val_loss did not improve from 0.03632\n",
            "\n",
            "Epoch 00112: val_loss did not improve from 0.03632\n",
            "\n",
            "Epoch 00113: val_loss did not improve from 0.03632\n",
            "\n",
            "Epoch 00114: val_loss did not improve from 0.03632\n",
            "\n",
            "Epoch 00115: val_loss did not improve from 0.03632\n",
            "\n",
            "Epoch 00116: val_loss did not improve from 0.03632\n",
            "\n",
            "Epoch 00117: val_loss did not improve from 0.03632\n",
            "\n",
            "Epoch 00118: val_loss did not improve from 0.03632\n",
            "\n",
            "Epoch 00119: val_loss did not improve from 0.03632\n",
            "\n",
            "Epoch 00120: val_loss did not improve from 0.03632\n",
            "\n",
            "Epoch 00121: val_loss did not improve from 0.03632\n",
            "\n",
            "Epoch 00122: val_loss did not improve from 0.03632\n",
            "\n",
            "Epoch 00123: val_loss did not improve from 0.03632\n",
            "\n",
            "Epoch 00124: val_loss did not improve from 0.03632\n",
            "\n",
            "Epoch 00125: val_loss did not improve from 0.03632\n",
            "\n",
            "Epoch 00126: val_loss did not improve from 0.03632\n",
            "\n",
            "Epoch 00127: val_loss did not improve from 0.03632\n",
            "\n",
            "Epoch 00128: val_loss did not improve from 0.03632\n",
            "\n",
            "Epoch 00129: val_loss did not improve from 0.03632\n",
            "\n",
            "Epoch 00130: val_loss did not improve from 0.03632\n"
          ],
          "name": "stdout"
        },
        {
          "output_type": "execute_result",
          "data": {
            "text/plain": [
              "<keras.callbacks.History at 0x7fabb185a048>"
            ]
          },
          "metadata": {
            "tags": []
          },
          "execution_count": 40
        }
      ]
    },
    {
      "cell_type": "code",
      "metadata": {
        "id": "hOv7QgIq79bs",
        "colab_type": "code",
        "colab": {}
      },
      "source": [
        "#print(\"Accuracy: %.4f\" % (model.evaluate(X, Y)[1]))\n",
        "y_vloss = history.history['val_loss']\n",
        "y_acc = history.history['acc']"
      ],
      "execution_count": 0,
      "outputs": []
    },
    {
      "cell_type": "code",
      "metadata": {
        "id": "-mo21izT8Hvf",
        "colab_type": "code",
        "outputId": "252e1e5f-3fe5-435a-a101-dde67a35bfb6",
        "colab": {
          "base_uri": "https://localhost:8080/",
          "height": 265
        }
      },
      "source": [
        "x_len = np.arange(len(y_acc))\n",
        "plt.plot(x_len, y_vloss, \"o\", c=\"red\", markersize=3)\n",
        "plt.plot(x_len, y_acc, \"o\", c=\"blue\", markersize=3)\n",
        "plt.show()"
      ],
      "execution_count": 0,
      "outputs": [
        {
          "output_type": "display_data",
          "data": {
            "image/png": "[encoded data removed]",
            "text/plain": [
              "<Figure size 432x288 with 1 Axes>"
            ]
          },
          "metadata": {
            "tags": []
          }
        }
      ]
    }
  ]
}