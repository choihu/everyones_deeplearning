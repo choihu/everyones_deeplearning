{
  "nbformat": 4,
  "nbformat_minor": 0,
  "metadata": {
    "colab": {
      "name": "everyone's_deeplearning6.ipynb",
      "provenance": [],
      "include_colab_link": true
    },
    "kernelspec": {
      "name": "python3",
      "display_name": "Python 3"
    }
  },
  "cells": [
    {
      "cell_type": "markdown",
      "metadata": {
        "id": "view-in-github",
        "colab_type": "text"
      },
      "source": [
        "<a href=\"https://colab.research.google.com/github/choihu/everyones_deeplearning/blob/master/everyone's_deeplearning6.ipynb\" target=\"_parent\"><img src=\"https://colab.research.google.com/assets/colab-badge.svg\" alt=\"Open In Colab\"/></a>"
      ]
    },
    {
      "cell_type": "code",
      "metadata": {
        "id": "0DuHG-XlMw_L",
        "colab_type": "code",
        "colab": {}
      },
      "source": [
        "from keras import Sequential\n",
        "from keras.layers.core import Dense\n",
        "from sklearn.preprocessing import LabelEncoder\n",
        "from sklearn.model_selection import train_test_split\n",
        "from keras.models import load_model\n",
        "from sklearn.model_selection import StratifiedKFold\n",
        "from keras.callbacks import ModelCheckpoint\n",
        "from keras.callbacks import EarlyStopping\n",
        "\n",
        "import os\n",
        "import pandas as pd\n",
        "import numpy as np\n",
        "import tensorflow as tf\n",
        "import matplotlib.pyplot as plt\n",
        "\n",
        "seed = 0\n",
        "n_fold = 10\n",
        "np.random.seed(seed)\n",
        "tf.set_random_seed(seed)"
      ],
      "execution_count": 0,
      "outputs": []
    },
    {
      "cell_type": "code",
      "metadata": {
        "id": "pNmbwgUiM22o",
        "colab_type": "code",
        "outputId": "a0de03c4-b331-41d8-863b-0bba2febb692",
        "colab": {
          "base_uri": "https://localhost:8080/",
          "height": 351
        }
      },
      "source": [
        "df = pd.read_csv('/content/housing.csv', delim_whitespace=True, header=None)\n",
        "df.info()"
      ],
      "execution_count": 0,
      "outputs": [
        {
          "output_type": "stream",
          "text": [
            "<class 'pandas.core.frame.DataFrame'>\n",
            "RangeIndex: 506 entries, 0 to 505\n",
            "Data columns (total 14 columns):\n",
            "0     506 non-null float64\n",
            "1     506 non-null float64\n",
            "2     506 non-null float64\n",
            "3     506 non-null int64\n",
            "4     506 non-null float64\n",
            "5     506 non-null float64\n",
            "6     506 non-null float64\n",
            "7     506 non-null float64\n",
            "8     506 non-null int64\n",
            "9     506 non-null float64\n",
            "10    506 non-null float64\n",
            "11    506 non-null float64\n",
            "12    506 non-null float64\n",
            "13    506 non-null float64\n",
            "dtypes: float64(12), int64(2)\n",
            "memory usage: 55.5 KB\n"
          ],
          "name": "stdout"
        }
      ]
    },
    {
      "cell_type": "code",
      "metadata": {
        "id": "guGFeOOBQ32i",
        "colab_type": "code",
        "colab": {}
      },
      "source": [
        "dataset = df.values\n",
        "X = dataset[:, 0:13]\n",
        "Y = dataset[:, 13]"
      ],
      "execution_count": 0,
      "outputs": []
    },
    {
      "cell_type": "code",
      "metadata": {
        "id": "hHaGIpz4REmw",
        "colab_type": "code",
        "colab": {}
      },
      "source": [
        "X_train, X_test, Y_train, Y_test = train_test_split(X, Y, test_size=0.3, random_state = seed)"
      ],
      "execution_count": 0,
      "outputs": []
    },
    {
      "cell_type": "code",
      "metadata": {
        "id": "D6eoWrIYNve7",
        "colab_type": "code",
        "colab": {}
      },
      "source": [
        "model = Sequential()\n",
        "model.add(Dense(30, input_dim=13, activation='relu'))\n",
        "model.add(Dense(6, activation='relu'))\n",
        "model.add(Dense(1))"
      ],
      "execution_count": 0,
      "outputs": []
    },
    {
      "cell_type": "code",
      "metadata": {
        "id": "ckw6LPRzQ0cl",
        "colab_type": "code",
        "outputId": "7f626cbc-11df-4086-e548-500b37630c58",
        "colab": {
          "base_uri": "https://localhost:8080/",
          "height": 34
        }
      },
      "source": [
        "model.compile(loss='mean_squared_error', optimizer='adam')\n",
        "\n",
        "model.fit(X_train, Y_train, epochs=200, batch_size=10, verbose=0)"
      ],
      "execution_count": 0,
      "outputs": [
        {
          "output_type": "execute_result",
          "data": {
            "text/plain": [
              "<keras.callbacks.History at 0x7fc5feec16d8>"
            ]
          },
          "metadata": {
            "tags": []
          },
          "execution_count": 23
        }
      ]
    },
    {
      "cell_type": "code",
      "metadata": {
        "id": "FiprnDp-RgwJ",
        "colab_type": "code",
        "colab": {}
      },
      "source": [
        "Y_prediction = model.predict(X_test).flatten()"
      ],
      "execution_count": 0,
      "outputs": []
    },
    {
      "cell_type": "code",
      "metadata": {
        "id": "JhqpGWSSRlYv",
        "colab_type": "code",
        "outputId": "bf276482-4097-47cb-dcfa-4112ddb5d09e",
        "colab": {
          "base_uri": "https://localhost:8080/",
          "height": 193
        }
      },
      "source": [
        "for i in range(10):\n",
        "  label = Y_test[i]\n",
        "  prediction = Y_prediction[i]\n",
        "  print(\"실제가격: {:.3f}, 예상가격: {:.3f}\".format(label, prediction))"
      ],
      "execution_count": 0,
      "outputs": [
        {
          "output_type": "stream",
          "text": [
            "실제가격: 22.600, 예상가격: 25.638\n",
            "실제가격: 50.000, 예상가격: 28.436\n",
            "실제가격: 23.000, 예상가격: 28.017\n",
            "실제가격: 8.300, 예상가격: 11.858\n",
            "실제가격: 21.200, 예상가격: 21.553\n",
            "실제가격: 19.900, 예상가격: 22.212\n",
            "실제가격: 20.600, 예상가격: 23.056\n",
            "실제가격: 18.700, 예상가격: 22.373\n",
            "실제가격: 16.100, 예상가격: 18.647\n",
            "실제가격: 18.600, 예상가격: 14.276\n"
          ],
          "name": "stdout"
        }
      ]
    }
  ]
}